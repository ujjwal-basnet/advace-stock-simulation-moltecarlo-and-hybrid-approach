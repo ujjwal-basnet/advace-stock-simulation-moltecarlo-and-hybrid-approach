{
 "cells": [
  {
   "cell_type": "code",
   "execution_count": 26,
   "id": "323f069e",
   "metadata": {},
   "outputs": [],
   "source": [
    "import pandas as pd \n",
    "import numpy as np "
   ]
  },
  {
   "cell_type": "code",
   "execution_count": 27,
   "id": "6607ea80",
   "metadata": {},
   "outputs": [
    {
     "data": {
      "text/html": [
       "<div>\n",
       "<style scoped>\n",
       "    .dataframe tbody tr th:only-of-type {\n",
       "        vertical-align: middle;\n",
       "    }\n",
       "\n",
       "    .dataframe tbody tr th {\n",
       "        vertical-align: top;\n",
       "    }\n",
       "\n",
       "    .dataframe thead th {\n",
       "        text-align: right;\n",
       "    }\n",
       "</style>\n",
       "<table border=\"1\" class=\"dataframe\">\n",
       "  <thead>\n",
       "    <tr style=\"text-align: right;\">\n",
       "      <th></th>\n",
       "      <th>HDL</th>\n",
       "      <th>SHIVM</th>\n",
       "      <th>STC</th>\n",
       "      <th>UNL</th>\n",
       "    </tr>\n",
       "    <tr>\n",
       "      <th>Date</th>\n",
       "      <th></th>\n",
       "      <th></th>\n",
       "      <th></th>\n",
       "      <th></th>\n",
       "    </tr>\n",
       "  </thead>\n",
       "  <tbody>\n",
       "    <tr>\n",
       "      <th>2019-06-12</th>\n",
       "      <td>1717.0</td>\n",
       "      <td>665.0</td>\n",
       "      <td>484.0</td>\n",
       "      <td>19696.0</td>\n",
       "    </tr>\n",
       "    <tr>\n",
       "      <th>2019-07-07</th>\n",
       "      <td>1685.0</td>\n",
       "      <td>616.0</td>\n",
       "      <td>484.0</td>\n",
       "      <td>20250.0</td>\n",
       "    </tr>\n",
       "    <tr>\n",
       "      <th>2019-07-31</th>\n",
       "      <td>1578.0</td>\n",
       "      <td>602.0</td>\n",
       "      <td>493.0</td>\n",
       "      <td>20195.0</td>\n",
       "    </tr>\n",
       "    <tr>\n",
       "      <th>2019-08-26</th>\n",
       "      <td>1560.0</td>\n",
       "      <td>573.0</td>\n",
       "      <td>603.0</td>\n",
       "      <td>19600.0</td>\n",
       "    </tr>\n",
       "    <tr>\n",
       "      <th>2019-09-23</th>\n",
       "      <td>1473.0</td>\n",
       "      <td>553.0</td>\n",
       "      <td>658.0</td>\n",
       "      <td>18621.0</td>\n",
       "    </tr>\n",
       "    <tr>\n",
       "      <th>...</th>\n",
       "      <td>...</td>\n",
       "      <td>...</td>\n",
       "      <td>...</td>\n",
       "      <td>...</td>\n",
       "    </tr>\n",
       "    <tr>\n",
       "      <th>2022-06-30</th>\n",
       "      <td>3405.0</td>\n",
       "      <td>774.0</td>\n",
       "      <td>3585.0</td>\n",
       "      <td>18700.0</td>\n",
       "    </tr>\n",
       "    <tr>\n",
       "      <th>2022-07-03</th>\n",
       "      <td>3625.0</td>\n",
       "      <td>830.0</td>\n",
       "      <td>3989.7</td>\n",
       "      <td>18335.0</td>\n",
       "    </tr>\n",
       "    <tr>\n",
       "      <th>2022-07-04</th>\n",
       "      <td>3600.0</td>\n",
       "      <td>826.0</td>\n",
       "      <td>4263.0</td>\n",
       "      <td>18400.0</td>\n",
       "    </tr>\n",
       "    <tr>\n",
       "      <th>2022-07-05</th>\n",
       "      <td>3512.0</td>\n",
       "      <td>783.0</td>\n",
       "      <td>4100.0</td>\n",
       "      <td>18300.0</td>\n",
       "    </tr>\n",
       "    <tr>\n",
       "      <th>2022-07-07</th>\n",
       "      <td>3490.0</td>\n",
       "      <td>785.0</td>\n",
       "      <td>4040.0</td>\n",
       "      <td>18005.0</td>\n",
       "    </tr>\n",
       "  </tbody>\n",
       "</table>\n",
       "<p>459 rows × 4 columns</p>\n",
       "</div>"
      ],
      "text/plain": [
       "               HDL  SHIVM     STC      UNL\n",
       "Date                                      \n",
       "2019-06-12  1717.0  665.0   484.0  19696.0\n",
       "2019-07-07  1685.0  616.0   484.0  20250.0\n",
       "2019-07-31  1578.0  602.0   493.0  20195.0\n",
       "2019-08-26  1560.0  573.0   603.0  19600.0\n",
       "2019-09-23  1473.0  553.0   658.0  18621.0\n",
       "...            ...    ...     ...      ...\n",
       "2022-06-30  3405.0  774.0  3585.0  18700.0\n",
       "2022-07-03  3625.0  830.0  3989.7  18335.0\n",
       "2022-07-04  3600.0  826.0  4263.0  18400.0\n",
       "2022-07-05  3512.0  783.0  4100.0  18300.0\n",
       "2022-07-07  3490.0  785.0  4040.0  18005.0\n",
       "\n",
       "[459 rows x 4 columns]"
      ]
     },
     "execution_count": 27,
     "metadata": {},
     "output_type": "execute_result"
    }
   ],
   "source": [
    "stock_return= pd.read_csv(\"processed_stock.csv\")\n",
    "stock_return.index= stock_return['Date']\n",
    "\n",
    "stock_return= stock_return.drop(columns=['Date'])\n",
    "\n",
    "stock_return"
   ]
  },
  {
   "cell_type": "code",
   "execution_count": 28,
   "id": "f728bd17",
   "metadata": {},
   "outputs": [
    {
     "data": {
      "text/plain": [
       "HDL      1\n",
       "SHIVM    1\n",
       "STC      1\n",
       "UNL      1\n",
       "dtype: int64"
      ]
     },
     "execution_count": 28,
     "metadata": {},
     "output_type": "execute_result"
    }
   ],
   "source": [
    "(stock_return == 0 ).sum()"
   ]
  },
  {
   "cell_type": "code",
   "execution_count": 29,
   "id": "5986ff14",
   "metadata": {},
   "outputs": [
    {
     "data": {
      "text/plain": [
       "HDL      0\n",
       "SHIVM    0\n",
       "STC      0\n",
       "UNL      0\n",
       "dtype: int64"
      ]
     },
     "execution_count": 29,
     "metadata": {},
     "output_type": "execute_result"
    }
   ],
   "source": [
    "## convert 0 to nan values and then remove nan values\n",
    "stock_return= stock_return.replace(0, np.nan)\n",
    "cleaned_data= stock_return.dropna()\n",
    "(cleaned_data.isnull()).sum()"
   ]
  },
  {
   "cell_type": "markdown",
   "id": "34563bfa",
   "metadata": {},
   "source": [
    "## calculuating portfolio return   **change in value over time**\n",
    "### formula 👇\n",
    "$\\text{Returns} = \\frac{P_t - P_{t-1}}{P_{t-1}} \\times 100$\n"
   ]
  },
  {
   "cell_type": "code",
   "execution_count": 30,
   "id": "fc39ad55",
   "metadata": {},
   "outputs": [
    {
     "data": {
      "text/html": [
       "<div>\n",
       "<style scoped>\n",
       "    .dataframe tbody tr th:only-of-type {\n",
       "        vertical-align: middle;\n",
       "    }\n",
       "\n",
       "    .dataframe tbody tr th {\n",
       "        vertical-align: top;\n",
       "    }\n",
       "\n",
       "    .dataframe thead th {\n",
       "        text-align: right;\n",
       "    }\n",
       "</style>\n",
       "<table border=\"1\" class=\"dataframe\">\n",
       "  <thead>\n",
       "    <tr style=\"text-align: right;\">\n",
       "      <th></th>\n",
       "      <th>HDL</th>\n",
       "      <th>SHIVM</th>\n",
       "      <th>STC</th>\n",
       "      <th>UNL</th>\n",
       "    </tr>\n",
       "    <tr>\n",
       "      <th>Date</th>\n",
       "      <th></th>\n",
       "      <th></th>\n",
       "      <th></th>\n",
       "      <th></th>\n",
       "    </tr>\n",
       "  </thead>\n",
       "  <tbody>\n",
       "    <tr>\n",
       "      <th>2019-07-07</th>\n",
       "      <td>-0.018637</td>\n",
       "      <td>-0.073684</td>\n",
       "      <td>0.000000</td>\n",
       "      <td>0.028128</td>\n",
       "    </tr>\n",
       "    <tr>\n",
       "      <th>2019-07-31</th>\n",
       "      <td>-0.063501</td>\n",
       "      <td>-0.022727</td>\n",
       "      <td>0.018595</td>\n",
       "      <td>-0.002716</td>\n",
       "    </tr>\n",
       "    <tr>\n",
       "      <th>2019-08-26</th>\n",
       "      <td>-0.011407</td>\n",
       "      <td>-0.048173</td>\n",
       "      <td>0.223124</td>\n",
       "      <td>-0.029463</td>\n",
       "    </tr>\n",
       "  </tbody>\n",
       "</table>\n",
       "</div>"
      ],
      "text/plain": [
       "                 HDL     SHIVM       STC       UNL\n",
       "Date                                              \n",
       "2019-07-07 -0.018637 -0.073684  0.000000  0.028128\n",
       "2019-07-31 -0.063501 -0.022727  0.018595 -0.002716\n",
       "2019-08-26 -0.011407 -0.048173  0.223124 -0.029463"
      ]
     },
     "execution_count": 30,
     "metadata": {},
     "output_type": "execute_result"
    }
   ],
   "source": [
    "returns = cleaned_data.pct_change().dropna()\n",
    "returns[:3]"
   ]
  },
  {
   "cell_type": "code",
   "execution_count": 31,
   "id": "ab5b0e99",
   "metadata": {},
   "outputs": [
    {
     "data": {
      "text/plain": [
       "HDL      0.002596\n",
       "SHIVM    0.001057\n",
       "STC      0.005918\n",
       "UNL      0.000045\n",
       "dtype: float64"
      ]
     },
     "execution_count": 31,
     "metadata": {},
     "output_type": "execute_result"
    }
   ],
   "source": [
    "## calculating individual mean returns\n",
    "meanDailyReturns= returns.mean()\n",
    "meanDailyReturns"
   ]
  },
  {
   "cell_type": "code",
   "execution_count": 32,
   "id": "711a7a70",
   "metadata": {},
   "outputs": [
    {
     "data": {
      "text/plain": [
       "array([0.1, 0.1, 0.1, 0.1])"
      ]
     },
     "execution_count": 32,
     "metadata": {},
     "output_type": "execute_result"
    }
   ],
   "source": [
    "weights= np.array([1/10] * 4) \n",
    "weights"
   ]
  },
  {
   "cell_type": "code",
   "execution_count": 33,
   "id": "5616c768",
   "metadata": {},
   "outputs": [
    {
     "data": {
      "text/plain": [
       "0.0009616253909632219"
      ]
     },
     "execution_count": 33,
     "metadata": {},
     "output_type": "execute_result"
    }
   ],
   "source": [
    "##  expected portfolio performance \n",
    "portReport= np.sum(weights*meanDailyReturns)\n",
    "portReport"
   ]
  },
  {
   "cell_type": "code",
   "execution_count": 35,
   "id": "efa94b4b",
   "metadata": {},
   "outputs": [],
   "source": [
    "daily_cum_return= (1 + returns).cumprod()"
   ]
  },
  {
   "cell_type": "code",
   "execution_count": 41,
   "id": "ebe89c98",
   "metadata": {},
   "outputs": [],
   "source": [
    "import matplotlib.pyplot as plt "
   ]
  },
  {
   "cell_type": "code",
   "execution_count": 42,
   "id": "92c65111",
   "metadata": {},
   "outputs": [
    {
     "data": {
      "text/plain": [
       "<Figure size 2000x800 with 0 Axes>"
      ]
     },
     "metadata": {},
     "output_type": "display_data"
    },
    {
     "data": {
      "image/png": "[encoded data removed]",
      "text/plain": [
       "<Figure size 640x480 with 1 Axes>"
      ]
     },
     "metadata": {},
     "output_type": "display_data"
    }
   ],
   "source": [
    "\n",
    "# Increase the figure size\n",
    "plt.figure(figsize=(20, 8))\n",
    "\n",
    "# Plot the cumulative returns\n",
    "daily_cum_return.plot()\n",
    "\n",
    "# Set labels and title for clarity\n",
    "plt.title('Cumulative Returns of 10 Stocks', fontsize=16)\n",
    "plt.xlabel('Date', fontsize=12)\n",
    "plt.ylabel('Cumulative Return', fontsize=12)\n",
    "\n",
    "# Rotate x-axis labels for better readability if needed\n",
    "plt.xticks(rotation=45)\n",
    "\n",
    "# Show the plot\n",
    "plt.tight_layout()  # Adjust layout to avoid clipping\n",
    "plt.show()\n"
   ]
  },
  {
   "cell_type": "markdown",
   "id": "128a5b4c",
   "metadata": {},
   "source": [
    "## finding the optimal weights"
   ]
  },
  {
   "cell_type": "code",
   "execution_count": null,
   "id": "0014fbdb",
   "metadata": {},
   "outputs": [
    {
     "name": "stdout",
     "output_type": "stream",
     "text": [
      "Optimal Portfolio Weights:\n",
      "[0.08724554 0.31528835 0.         0.59746612]\n"
     ]
    }
   ],
   "source": [
    "\n",
    "from scipy.optimize import minimize\n",
    "\n",
    "# Objective: Minimize portfolio variance\n",
    "def portfolio_variance(weights, cov_matrix):\n",
    "    return np.dot(weights.T, np.dot(cov_matrix, weights))\n",
    "\n",
    "# Constraint: weights must sum to 1\n",
    "constraints = ({'type': 'eq', 'fun': lambda weights: np.sum(weights) - 1})\n",
    "\n",
    "# Bounds: No short selling (weights between 0 and 1)\n",
    "bounds = tuple((0, 1) for _ in range(len(meanDailyReturns)))\n",
    "\n",
    "# Initial guess: equal weights\n",
    "initial_weights = np.array([1/len(meanDailyReturns)] * len(meanDailyReturns))\n",
    "\n",
    "# Covariance matrix\n",
    "cov_matrix = returns.cov()\n",
    "\n",
    "# Optimize\n",
    "result = minimize(portfolio_variance, initial_weights,\n",
    "                  args=(cov_matrix,),\n",
    "                  method='SLSQP',\n",
    "                  bounds=bounds,\n",
    "                  constraints=constraints)\n",
    "\n",
    "# Optimal weights\n",
    "optimal_weights = result.x\n",
    "\n",
    "\n",
    "print(\"Optimal Portfolio Weights:\")\n",
    "print(optimal_weights)\n"
   ]
  },
  {
   "cell_type": "code",
   "execution_count": 46,
   "id": "94258c4a",
   "metadata": {},
   "outputs": [
    {
     "data": {
      "text/plain": [
       "0.0009616253909632219"
      ]
     },
     "execution_count": 46,
     "metadata": {},
     "output_type": "execute_result"
    }
   ],
   "source": [
    "portReport= np.sum(weights*meanDailyReturns)\n",
    "portReport"
   ]
  },
  {
   "cell_type": "code",
   "execution_count": 47,
   "id": "bab27e4e",
   "metadata": {},
   "outputs": [
    {
     "data": {
      "text/plain": [
       "0.2807946141612608"
      ]
     },
     "execution_count": 47,
     "metadata": {},
     "output_type": "execute_result"
    }
   ],
   "source": [
    "portReport * 292"
   ]
  },
  {
   "cell_type": "code",
   "execution_count": null,
   "id": "3ad58f4f",
   "metadata": {},
   "outputs": [],
   "source": []
  }
 ],
 "metadata": {
  "kernelspec": {
   "display_name": "dl-env",
   "language": "python",
   "name": "python3"
  },
  "language_info": {
   "codemirror_mode": {
    "name": "ipython",
    "version": 3
   },
   "file_extension": ".py",
   "mimetype": "text/x-python",
   "name": "python",
   "nbconvert_exporter": "python",
   "pygments_lexer": "ipython3",
   "version": "3.11.6"
  }
 },
 "nbformat": 4,
 "nbformat_minor": 5
}
